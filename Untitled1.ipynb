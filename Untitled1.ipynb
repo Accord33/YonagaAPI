{
 "cells": [
  {
   "cell_type": "code",
   "execution_count": 95,
   "id": "58206bff-a642-4d61-9224-b9fd5b97f895",
   "metadata": {},
   "outputs": [],
   "source": [
    "from flask import render_template, request, Flask\n",
    "import flask\n",
    "import pandas as pd\n",
    "from janome.tokenizer import Tokenizer\n",
    "import pprint\n",
    "tokenizer = Tokenizer(\"custom_dict.csv\")"
   ]
  },
  {
   "cell_type": "code",
   "execution_count": 17,
   "id": "4f97e431-19a0-4e68-a5f9-ef6893ec3fe3",
   "metadata": {},
   "outputs": [],
   "source": [
    "def get_csv():\n",
    "    datas = pd.read_csv(\"data.csv\")\n",
    "    return datas"
   ]
  },
  {
   "cell_type": "code",
   "execution_count": 29,
   "id": "db792614-0646-438c-ab1e-cdff40466c5d",
   "metadata": {},
   "outputs": [],
   "source": [
    "tokens = list()\n",
    "for token in tokenizer.tokenize(\"ざつだん　雑談 甘﨑家\"):\n",
    "    tokens.append(token.surface)\n",
    "    tokens.append(token.reading)"
   ]
  },
  {
   "cell_type": "code",
   "execution_count": 30,
   "id": "84a4bd8e-c6ac-496f-9cfd-3f6ee52b7e60",
   "metadata": {},
   "outputs": [
    {
     "data": {
      "text/plain": [
       "['ざつだん', '*', '\\u3000', '\\u3000', '雑談', 'ザツダン', ' ', '*', '甘﨑家', '*']"
      ]
     },
     "execution_count": 30,
     "metadata": {},
     "output_type": "execute_result"
    }
   ],
   "source": [
    "tokens"
   ]
  },
  {
   "cell_type": "code",
   "execution_count": 52,
   "id": "252d69c4-f73a-4600-8a4f-ab4ccb1d98e7",
   "metadata": {},
   "outputs": [
    {
     "data": {
      "text/plain": [
       "['ざつだん', '雑談', 'ザツダン', '甘﨑家']"
      ]
     },
     "execution_count": 52,
     "metadata": {},
     "output_type": "execute_result"
    }
   ],
   "source": [
    "[i for i in tokens if i != \"*\" and i != \"\\u3000\" and i != \" \"]"
   ]
  },
  {
   "cell_type": "code",
   "execution_count": 75,
   "id": "de388a61-1850-49b3-832a-5504f929ce47",
   "metadata": {},
   "outputs": [
    {
     "data": {
      "text/html": [
       "<div>\n",
       "<style scoped>\n",
       "    .dataframe tbody tr th:only-of-type {\n",
       "        vertical-align: middle;\n",
       "    }\n",
       "\n",
       "    .dataframe tbody tr th {\n",
       "        vertical-align: top;\n",
       "    }\n",
       "\n",
       "    .dataframe thead th {\n",
       "        text-align: right;\n",
       "    }\n",
       "</style>\n",
       "<table border=\"1\" class=\"dataframe\">\n",
       "  <thead>\n",
       "    <tr style=\"text-align: right;\">\n",
       "      <th></th>\n",
       "      <th>Unnamed: 0</th>\n",
       "      <th>title</th>\n",
       "      <th>urls</th>\n",
       "      <th>thumbnail</th>\n",
       "      <th>time</th>\n",
       "    </tr>\n",
       "  </thead>\n",
       "  <tbody>\n",
       "    <tr>\n",
       "      <th>0</th>\n",
       "      <td>0</td>\n",
       "      <td>【ポケモンSV/初見実況】＃１０ 気ままに旅するスカーレット！【よなが/#新人Vtuber】</td>\n",
       "      <td>https://youtube.com/watch?v=0-rIU6rLRRY</td>\n",
       "      <td>https://i.ytimg.com/vi/0-rIU6rLRRY/hqdefault.j...</td>\n",
       "      <td>配信予定</td>\n",
       "    </tr>\n",
       "    <tr>\n",
       "      <th>1</th>\n",
       "      <td>1</td>\n",
       "      <td>【FF14/Gaia/蒼天】ハウジング戦争から逃げだして＃ ２０【よなが/#新人Vtuber】</td>\n",
       "      <td>https://youtube.com/watch?v=3tAw0Tp-_nU</td>\n",
       "      <td>https://i.ytimg.com/vi/3tAw0Tp-_nU/hqdefault.j...</td>\n",
       "      <td>配信予定</td>\n",
       "    </tr>\n",
       "    <tr>\n",
       "      <th>2</th>\n",
       "      <td>2</td>\n",
       "      <td>【雑談/free chat】ちょこっと、お酒でも飲みながら【よなが/#新人Vtuber】</td>\n",
       "      <td>https://youtube.com/watch?v=6e4frt6-Iv0&amp;t=6s</td>\n",
       "      <td>https://i.ytimg.com/vi/6e4frt6-Iv0/hqdefault.j...</td>\n",
       "      <td>2:58:04</td>\n",
       "    </tr>\n",
       "    <tr>\n",
       "      <th>3</th>\n",
       "      <td>3</td>\n",
       "      <td>【Dark and Darker】甘崎家でダンジョンに潜ります【よなが/#新人Vtuber】</td>\n",
       "      <td>https://youtube.com/watch?v=sAYHTLOQG2Y</td>\n",
       "      <td>https://i.ytimg.com/vi/sAYHTLOQG2Y/hqdefault.j...</td>\n",
       "      <td>3:31:11</td>\n",
       "    </tr>\n",
       "    <tr>\n",
       "      <th>4</th>\n",
       "      <td>4</td>\n",
       "      <td>【#良い声歌枠リレー /Singing Stream】20時から！3番手、いきます！【よなが...</td>\n",
       "      <td>https://youtube.com/watch?v=f84rhreYVSA</td>\n",
       "      <td>https://i.ytimg.com/vi/f84rhreYVSA/hqdefault.j...</td>\n",
       "      <td>36:06</td>\n",
       "    </tr>\n",
       "    <tr>\n",
       "      <th>...</th>\n",
       "      <td>...</td>\n",
       "      <td>...</td>\n",
       "      <td>...</td>\n",
       "      <td>...</td>\n",
       "      <td>...</td>\n",
       "    </tr>\n",
       "    <tr>\n",
       "      <th>362</th>\n",
       "      <td>362</td>\n",
       "      <td>【Apex Legends/参加型】お久しぶりです。【よなが/#新人Vtuber】</td>\n",
       "      <td>https://youtube.com/watch?v=d8uS7vXqIGc&amp;t=2787s</td>\n",
       "      <td>https://i.ytimg.com/vi/d8uS7vXqIGc/hqdefault.j...</td>\n",
       "      <td>3:00:19</td>\n",
       "    </tr>\n",
       "    <tr>\n",
       "      <th>363</th>\n",
       "      <td>363</td>\n",
       "      <td>【Dead by Daylight】おいかけっこしよう。【よなが/#新人Vtuber】</td>\n",
       "      <td>https://youtube.com/watch?v=XUHuNY1Kmkc</td>\n",
       "      <td>https://i.ytimg.com/vi/XUHuNY1Kmkc/hqdefault.j...</td>\n",
       "      <td>4:07:22</td>\n",
       "    </tr>\n",
       "    <tr>\n",
       "      <th>364</th>\n",
       "      <td>364</td>\n",
       "      <td>【ざつだん】 もう7月も終わるね。【よなが/#新人Vtuber】</td>\n",
       "      <td>https://youtube.com/watch?v=hRgBslUYnFg</td>\n",
       "      <td>https://i.ytimg.com/vi/hRgBslUYnFg/hqdefault.j...</td>\n",
       "      <td>2:29:49</td>\n",
       "    </tr>\n",
       "    <tr>\n",
       "      <th>365</th>\n",
       "      <td>365</td>\n",
       "      <td>【夏のホラー/死印】 “シルシ”ってうわさ、知ってる？＃１【よなが/#新人Vtuber】</td>\n",
       "      <td>https://youtube.com/watch?v=qNrI5QwluMw</td>\n",
       "      <td>https://i.ytimg.com/vi/qNrI5QwluMw/hqdefault.j...</td>\n",
       "      <td>2:40:29</td>\n",
       "    </tr>\n",
       "    <tr>\n",
       "      <th>366</th>\n",
       "      <td>366</td>\n",
       "      <td>【初配信】はじめまして、よながです【#新人Vtuber】</td>\n",
       "      <td>https://youtube.com/watch?v=k90WkVau8gY&amp;t=246s</td>\n",
       "      <td>https://i.ytimg.com/vi/k90WkVau8gY/hqdefault.j...</td>\n",
       "      <td>2:05:57</td>\n",
       "    </tr>\n",
       "  </tbody>\n",
       "</table>\n",
       "<p>367 rows × 5 columns</p>\n",
       "</div>"
      ],
      "text/plain": [
       "     Unnamed: 0                                              title  \\\n",
       "0             0     【ポケモンSV/初見実況】＃１０ 気ままに旅するスカーレット！【よなが/#新人Vtuber】   \n",
       "1             1    【FF14/Gaia/蒼天】ハウジング戦争から逃げだして＃ ２０【よなが/#新人Vtuber】   \n",
       "2             2       【雑談/free chat】ちょこっと、お酒でも飲みながら【よなが/#新人Vtuber】   \n",
       "3             3     【Dark and Darker】甘崎家でダンジョンに潜ります【よなが/#新人Vtuber】   \n",
       "4             4  【#良い声歌枠リレー /Singing Stream】20時から！3番手、いきます！【よなが...   \n",
       "..          ...                                                ...   \n",
       "362         362          【Apex Legends/参加型】お久しぶりです。【よなが/#新人Vtuber】   \n",
       "363         363        【Dead by Daylight】おいかけっこしよう。【よなが/#新人Vtuber】   \n",
       "364         364                   【ざつだん】 もう7月も終わるね。【よなが/#新人Vtuber】   \n",
       "365         365       【夏のホラー/死印】 “シルシ”ってうわさ、知ってる？＃１【よなが/#新人Vtuber】   \n",
       "366         366                       【初配信】はじめまして、よながです【#新人Vtuber】   \n",
       "\n",
       "                                                urls  \\\n",
       "0            https://youtube.com/watch?v=0-rIU6rLRRY   \n",
       "1            https://youtube.com/watch?v=3tAw0Tp-_nU   \n",
       "2       https://youtube.com/watch?v=6e4frt6-Iv0&t=6s   \n",
       "3            https://youtube.com/watch?v=sAYHTLOQG2Y   \n",
       "4            https://youtube.com/watch?v=f84rhreYVSA   \n",
       "..                                               ...   \n",
       "362  https://youtube.com/watch?v=d8uS7vXqIGc&t=2787s   \n",
       "363          https://youtube.com/watch?v=XUHuNY1Kmkc   \n",
       "364          https://youtube.com/watch?v=hRgBslUYnFg   \n",
       "365          https://youtube.com/watch?v=qNrI5QwluMw   \n",
       "366   https://youtube.com/watch?v=k90WkVau8gY&t=246s   \n",
       "\n",
       "                                             thumbnail     time  \n",
       "0    https://i.ytimg.com/vi/0-rIU6rLRRY/hqdefault.j...     配信予定  \n",
       "1    https://i.ytimg.com/vi/3tAw0Tp-_nU/hqdefault.j...     配信予定  \n",
       "2    https://i.ytimg.com/vi/6e4frt6-Iv0/hqdefault.j...  2:58:04  \n",
       "3    https://i.ytimg.com/vi/sAYHTLOQG2Y/hqdefault.j...  3:31:11  \n",
       "4    https://i.ytimg.com/vi/f84rhreYVSA/hqdefault.j...    36:06  \n",
       "..                                                 ...      ...  \n",
       "362  https://i.ytimg.com/vi/d8uS7vXqIGc/hqdefault.j...  3:00:19  \n",
       "363  https://i.ytimg.com/vi/XUHuNY1Kmkc/hqdefault.j...  4:07:22  \n",
       "364  https://i.ytimg.com/vi/hRgBslUYnFg/hqdefault.j...  2:29:49  \n",
       "365  https://i.ytimg.com/vi/qNrI5QwluMw/hqdefault.j...  2:40:29  \n",
       "366  https://i.ytimg.com/vi/k90WkVau8gY/hqdefault.j...  2:05:57  \n",
       "\n",
       "[367 rows x 5 columns]"
      ]
     },
     "execution_count": 75,
     "metadata": {},
     "output_type": "execute_result"
    }
   ],
   "source": [
    "data = pd.read_csv(\"data.csv\")\n",
    "data"
   ]
  },
  {
   "cell_type": "code",
   "execution_count": 90,
   "id": "e5fee23c-7d99-4f36-b526-e37352e8381f",
   "metadata": {},
   "outputs": [
    {
     "name": "stdout",
     "output_type": "stream",
     "text": [
      "伊\n",
      "鞠\n",
      "FF\n",
      "14\n"
     ]
    },
    {
     "data": {
      "text/html": [
       "<div>\n",
       "<style scoped>\n",
       "    .dataframe tbody tr th:only-of-type {\n",
       "        vertical-align: middle;\n",
       "    }\n",
       "\n",
       "    .dataframe tbody tr th {\n",
       "        vertical-align: top;\n",
       "    }\n",
       "\n",
       "    .dataframe thead th {\n",
       "        text-align: right;\n",
       "    }\n",
       "</style>\n",
       "<table border=\"1\" class=\"dataframe\">\n",
       "  <thead>\n",
       "    <tr style=\"text-align: right;\">\n",
       "      <th></th>\n",
       "      <th>Unnamed: 0</th>\n",
       "      <th>title</th>\n",
       "      <th>urls</th>\n",
       "      <th>thumbnail</th>\n",
       "      <th>time</th>\n",
       "    </tr>\n",
       "  </thead>\n",
       "  <tbody>\n",
       "    <tr>\n",
       "      <th>43</th>\n",
       "      <td>43</td>\n",
       "      <td>【FF14/Gaia/新生】大迷宮バハムート！ with 伊鞠七ツ海【よなが/#新人Vtuber】</td>\n",
       "      <td>https://youtube.com/watch?v=bYN_Z6xSIOA</td>\n",
       "      <td>https://i.ytimg.com/vi/bYN_Z6xSIOA/hqdefault.j...</td>\n",
       "      <td>4:24:12</td>\n",
       "    </tr>\n",
       "    <tr>\n",
       "      <th>56</th>\n",
       "      <td>56</td>\n",
       "      <td>【FF14/Gaia/新生】クリスタルタワー攻略！ w/伊鞠七ツ海【よなが/#新人Vtuber】</td>\n",
       "      <td>https://youtube.com/watch?v=pJztLvGvzeg</td>\n",
       "      <td>https://i.ytimg.com/vi/pJztLvGvzeg/hqdefault.j...</td>\n",
       "      <td>5:07:32</td>\n",
       "    </tr>\n",
       "  </tbody>\n",
       "</table>\n",
       "</div>"
      ],
      "text/plain": [
       "    Unnamed: 0                                              title  \\\n",
       "43          43  【FF14/Gaia/新生】大迷宮バハムート！ with 伊鞠七ツ海【よなが/#新人Vtuber】   \n",
       "56          56   【FF14/Gaia/新生】クリスタルタワー攻略！ w/伊鞠七ツ海【よなが/#新人Vtuber】   \n",
       "\n",
       "                                       urls  \\\n",
       "43  https://youtube.com/watch?v=bYN_Z6xSIOA   \n",
       "56  https://youtube.com/watch?v=pJztLvGvzeg   \n",
       "\n",
       "                                            thumbnail     time  \n",
       "43  https://i.ytimg.com/vi/bYN_Z6xSIOA/hqdefault.j...  4:24:12  \n",
       "56  https://i.ytimg.com/vi/pJztLvGvzeg/hqdefault.j...  5:07:32  "
      ]
     },
     "execution_count": 90,
     "metadata": {},
     "output_type": "execute_result"
    }
   ],
   "source": [
    "tokens = list()\n",
    "for token in tokenizer.tokenize(\"伊鞠　FF14\"):\n",
    "    tokens.append(token.surface)\n",
    "tokens = [i for i in tokens if i != \"*\" and i != \"\\u3000\" and i != \" \"]\n",
    "data = pd.read_csv(\"data.csv\")\n",
    "for j in tokens:\n",
    "    print(j)\n",
    "    data = data.query(f'title.str.contains(\"{j}\")', engine='python')\n",
    "    \n",
    "data"
   ]
  },
  {
   "cell_type": "code",
   "execution_count": 87,
   "id": "5947fac3-c10a-4254-9047-c3d2414e21c6",
   "metadata": {},
   "outputs": [
    {
     "data": {
      "text/plain": [
       "['【', '夏', 'の', 'ホラー', '/', '死', '印', '】']"
      ]
     },
     "execution_count": 87,
     "metadata": {},
     "output_type": "execute_result"
    }
   ],
   "source": [
    "tokens = list()\n",
    "for token in tokenizer.tokenize(\"【夏のホラー/死印】\"):\n",
    "    tokens.append(token.surface)\n",
    "tokens"
   ]
  },
  {
   "cell_type": "code",
   "execution_count": 93,
   "id": "de2bb329-873f-40d4-9efb-dfdab52aee6b",
   "metadata": {},
   "outputs": [
    {
     "name": "stdout",
     "output_type": "stream",
     "text": [
      "Unnamed: 0\n",
      "title\n",
      "urls\n",
      "thumbnail\n",
      "time\n"
     ]
    }
   ],
   "source": [
    "d = data.to_dict()\n",
    "for i in d:\n",
    "    print(i)"
   ]
  },
  {
   "cell_type": "code",
   "execution_count": 94,
   "id": "2457495b-7550-4d15-ae28-5bc562e5949a",
   "metadata": {},
   "outputs": [
    {
     "data": {
      "text/plain": [
       "{'Unnamed: 0': {43: 43, 56: 56},\n",
       " 'title': {43: '【FF14/Gaia/新生】大迷宮バハムート！ with 伊鞠七ツ海【よなが/#新人Vtuber】',\n",
       "  56: '【FF14/Gaia/新生】クリスタルタワー攻略！ w/伊鞠七ツ海【よなが/#新人Vtuber】'},\n",
       " 'urls': {43: 'https://youtube.com/watch?v=bYN_Z6xSIOA',\n",
       "  56: 'https://youtube.com/watch?v=pJztLvGvzeg'},\n",
       " 'thumbnail': {43: 'https://i.ytimg.com/vi/bYN_Z6xSIOA/hqdefault.jpg?sqp=-oaymwEcCNACELwBSFXyq4qpAw4IARUAAIhCGAFwAcABBg==&rs=AOn4CLB9w_IoW5pAbs_8T1etsQ1hJRyvWQ',\n",
       "  56: 'https://i.ytimg.com/vi/pJztLvGvzeg/hqdefault.jpg?sqp=-oaymwEcCNACELwBSFXyq4qpAw4IARUAAIhCGAFwAcABBg==&rs=AOn4CLCZucSR64KRuL9IOV7vjLXl03HsHA'},\n",
       " 'time': {43: '4:24:12', 56: '5:07:32'}}"
      ]
     },
     "execution_count": 94,
     "metadata": {},
     "output_type": "execute_result"
    }
   ],
   "source": [
    "d"
   ]
  },
  {
   "cell_type": "code",
   "execution_count": 96,
   "id": "4c924e77-0cea-4c67-9ea0-b38dcc2cef81",
   "metadata": {},
   "outputs": [
    {
     "name": "stdout",
     "output_type": "stream",
     "text": [
      "{'Unnamed: 0': {43: 43, 56: 56},\n",
      " 'thumbnail': {43: 'https://i.ytimg.com/vi/bYN_Z6xSIOA/hqdefault.jpg?sqp=-oaymwEcCNACELwBSFXyq4qpAw4IARUAAIhCGAFwAcABBg==&rs=AOn4CLB9w_IoW5pAbs_8T1etsQ1hJRyvWQ',\n",
      "               56: 'https://i.ytimg.com/vi/pJztLvGvzeg/hqdefault.jpg?sqp=-oaymwEcCNACELwBSFXyq4qpAw4IARUAAIhCGAFwAcABBg==&rs=AOn4CLCZucSR64KRuL9IOV7vjLXl03HsHA'},\n",
      " 'time': {43: '4:24:12', 56: '5:07:32'},\n",
      " 'title': {43: '【FF14/Gaia/新生】大迷宮バハムート！ with 伊鞠七ツ海【よなが/#新人Vtuber】',\n",
      "           56: '【FF14/Gaia/新生】クリスタルタワー攻略！ w/伊鞠七ツ海【よなが/#新人Vtuber】'},\n",
      " 'urls': {43: 'https://youtube.com/watch?v=bYN_Z6xSIOA',\n",
      "          56: 'https://youtube.com/watch?v=pJztLvGvzeg'}}\n"
     ]
    }
   ],
   "source": [
    "pprint.pprint(d)"
   ]
  },
  {
   "cell_type": "code",
   "execution_count": 100,
   "id": "ae6fc8a8-dbce-4322-a561-eb0c1caa2668",
   "metadata": {},
   "outputs": [
    {
     "name": "stdout",
     "output_type": "stream",
     "text": [
      "https://i.ytimg.com/vi/bYN_Z6xSIOA/hqdefault.jpg?sqp=-oaymwEcCNACELwBSFXyq4qpAw4IARUAAIhCGAFwAcABBg==&rs=AOn4CLB9w_IoW5pAbs_8T1etsQ1hJRyvWQ\n",
      "【FF14/Gaia/新生】大迷宮バハムート！ with 伊鞠七ツ海【よなが/#新人Vtuber】\n",
      "https://youtube.com/watch?v=bYN_Z6xSIOA\n",
      "https://i.ytimg.com/vi/pJztLvGvzeg/hqdefault.jpg?sqp=-oaymwEcCNACELwBSFXyq4qpAw4IARUAAIhCGAFwAcABBg==&rs=AOn4CLCZucSR64KRuL9IOV7vjLXl03HsHA\n",
      "【FF14/Gaia/新生】クリスタルタワー攻略！ w/伊鞠七ツ海【よなが/#新人Vtuber】\n",
      "https://youtube.com/watch?v=pJztLvGvzeg\n"
     ]
    }
   ],
   "source": [
    "for l in d[\"Unnamed: 0\"]:\n",
    "    print(d[\"thumbnail\"][l])\n",
    "    print(d[\"title\"][l])\n",
    "    print(d[\"urls\"][l])"
   ]
  },
  {
   "cell_type": "code",
   "execution_count": null,
   "id": "bbe086e4-1fb1-40b0-a6e4-b76eaf1f380f",
   "metadata": {},
   "outputs": [],
   "source": []
  }
 ],
 "metadata": {
  "kernelspec": {
   "display_name": "Python 3 (ipykernel)",
   "language": "python",
   "name": "python3"
  },
  "language_info": {
   "codemirror_mode": {
    "name": "ipython",
    "version": 3
   },
   "file_extension": ".py",
   "mimetype": "text/x-python",
   "name": "python",
   "nbconvert_exporter": "python",
   "pygments_lexer": "ipython3",
   "version": "3.11.1"
  }
 },
 "nbformat": 4,
 "nbformat_minor": 5
}
