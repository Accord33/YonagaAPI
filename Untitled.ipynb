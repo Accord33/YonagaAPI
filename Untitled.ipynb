{
 "cells": [
  {
   "cell_type": "code",
   "execution_count": 52,
   "id": "3bc5d395-6773-453f-89b7-5161f9d1bae2",
   "metadata": {},
   "outputs": [],
   "source": [
    "from bs4 import BeautifulSoup as bs\n",
    "import pandas as pd"
   ]
  },
  {
   "cell_type": "code",
   "execution_count": 53,
   "id": "667f4a5d-7ed1-4dd3-8b1e-f03f460fd368",
   "metadata": {},
   "outputs": [],
   "source": [
    "with open(\"data.html\", \"r\") as f:\n",
    "    data = f.read()"
   ]
  },
  {
   "cell_type": "code",
   "execution_count": 54,
   "id": "394e46e2-3e15-4d8e-9bea-4522e93c2b09",
   "metadata": {},
   "outputs": [],
   "source": [
    "soup = bs(data, \"html.parser\")"
   ]
  },
  {
   "cell_type": "code",
   "execution_count": 55,
   "id": "0152a55d-b19a-47b8-9546-ac39dd803a4e",
   "metadata": {},
   "outputs": [],
   "source": [
    "dismissible = soup.select(\"#dismissible\")"
   ]
  },
  {
   "cell_type": "code",
   "execution_count": 56,
   "id": "0504e2dd-71b6-41bd-ac08-c6b9c88d758b",
   "metadata": {},
   "outputs": [
    {
     "data": {
      "text/plain": [
       "367"
      ]
     },
     "execution_count": 56,
     "metadata": {},
     "output_type": "execute_result"
    }
   ],
   "source": [
    "len(dismissible)"
   ]
  },
  {
   "cell_type": "code",
   "execution_count": 57,
   "id": "e18a9a67-e75d-4b67-a7d7-c93b482878da",
   "metadata": {},
   "outputs": [
    {
     "data": {
      "text/plain": [
       "bs4.element.Tag"
      ]
     },
     "execution_count": 57,
     "metadata": {},
     "output_type": "execute_result"
    }
   ],
   "source": [
    "type(dismissible[0])"
   ]
  },
  {
   "cell_type": "code",
   "execution_count": 58,
   "id": "9eec184b-cd18-4ac2-a357-887b8af7a864",
   "metadata": {},
   "outputs": [
    {
     "data": {
      "text/plain": [
       "'【ポケモンSV/初見実況】＃１０ 気ままに旅するスカーレット！【よなが/#新人Vtuber】'"
      ]
     },
     "execution_count": 58,
     "metadata": {},
     "output_type": "execute_result"
    }
   ],
   "source": [
    "dismissible[0].find(\"yt-formatted-string\").string"
   ]
  },
  {
   "cell_type": "code",
   "execution_count": 59,
   "id": "d3a74558-4243-4038-aaf2-da8d567055ac",
   "metadata": {},
   "outputs": [
    {
     "data": {
      "text/plain": [
       "'https://youtube.com/watch?v=0-rIU6rLRRY'"
      ]
     },
     "execution_count": 59,
     "metadata": {},
     "output_type": "execute_result"
    }
   ],
   "source": [
    "\"https://youtube.com\"+str(dismissible[0].a.get(\"href\"))"
   ]
  },
  {
   "cell_type": "code",
   "execution_count": 60,
   "id": "75dc9181-143b-4249-b9b4-e0943f1ca1a6",
   "metadata": {},
   "outputs": [
    {
     "data": {
      "text/plain": [
       "'https://i.ytimg.com/vi/0-rIU6rLRRY/hqdefault.jpg?sqp=-oaymwEcCNACELwBSFXyq4qpAw4IARUAAIhCGAFwAcABBg==&rs=AOn4CLDyw6MnAX3XQYMEId8QlYPU7a3MDA'"
      ]
     },
     "execution_count": 60,
     "metadata": {},
     "output_type": "execute_result"
    }
   ],
   "source": [
    "dismissible[0].find(\"img\").attrs['src']"
   ]
  },
  {
   "cell_type": "code",
   "execution_count": 61,
   "id": "0fd11655-ce84-4c8d-af00-ffb3b4161283",
   "metadata": {},
   "outputs": [
    {
     "data": {
      "text/plain": [
       "'配信予定'"
      ]
     },
     "execution_count": 61,
     "metadata": {},
     "output_type": "execute_result"
    }
   ],
   "source": [
    "dismissible[1].find(\"span\",class_=\"ytd-thumbnail-overlay-time-status-renderer\").string.replace(\"\\n\", \"\").replace(\"  \", \"\")"
   ]
  },
  {
   "cell_type": "code",
   "execution_count": 62,
   "id": "63a6c5c0-f083-4882-bdd2-4d1accfe3d6f",
   "metadata": {},
   "outputs": [],
   "source": [
    "titles = [dismissible[i].find(\"yt-formatted-string\").string for i in range(len(dismissible))]\n",
    "urls = [\"https://youtube.com\"+str(dismissible[i].a.get(\"href\")) for i in range(len(dismissible))]\n",
    "thumbnails = [dismissible[i].find(\"img\").attrs['src'] for i in range(len(dismissible))]\n",
    "times = [dismissible[i].find(\"span\",class_=\"ytd-thumbnail-overlay-time-status-renderer\").string.replace(\"\\n\", \"\").replace(\"  \", \"\") for i in range(len(dismissible))]"
   ]
  },
  {
   "cell_type": "code",
   "execution_count": 63,
   "id": "65ac9436-ded8-4f5e-ac2b-acb9929c6c83",
   "metadata": {},
   "outputs": [
    {
     "name": "stdout",
     "output_type": "stream",
     "text": [
      "                                                 title  \\\n",
      "0       【ポケモンSV/初見実況】＃１０ 気ままに旅するスカーレット！【よなが/#新人Vtuber】   \n",
      "1      【FF14/Gaia/蒼天】ハウジング戦争から逃げだして＃ ２０【よなが/#新人Vtuber】   \n",
      "2         【雑談/free chat】ちょこっと、お酒でも飲みながら【よなが/#新人Vtuber】   \n",
      "3       【Dark and Darker】甘崎家でダンジョンに潜ります【よなが/#新人Vtuber】   \n",
      "4    【#良い声歌枠リレー /Singing Stream】20時から！3番手、いきます！【よなが...   \n",
      "..                                                 ...   \n",
      "362          【Apex Legends/参加型】お久しぶりです。【よなが/#新人Vtuber】   \n",
      "363        【Dead by Daylight】おいかけっこしよう。【よなが/#新人Vtuber】   \n",
      "364                   【ざつだん】 もう7月も終わるね。【よなが/#新人Vtuber】   \n",
      "365       【夏のホラー/死印】 “シルシ”ってうわさ、知ってる？＃１【よなが/#新人Vtuber】   \n",
      "366                       【初配信】はじめまして、よながです【#新人Vtuber】   \n",
      "\n",
      "                                                 url  \\\n",
      "0            https://youtube.com/watch?v=0-rIU6rLRRY   \n",
      "1            https://youtube.com/watch?v=3tAw0Tp-_nU   \n",
      "2       https://youtube.com/watch?v=6e4frt6-Iv0&t=6s   \n",
      "3            https://youtube.com/watch?v=sAYHTLOQG2Y   \n",
      "4            https://youtube.com/watch?v=f84rhreYVSA   \n",
      "..                                               ...   \n",
      "362  https://youtube.com/watch?v=d8uS7vXqIGc&t=2787s   \n",
      "363          https://youtube.com/watch?v=XUHuNY1Kmkc   \n",
      "364          https://youtube.com/watch?v=hRgBslUYnFg   \n",
      "365          https://youtube.com/watch?v=qNrI5QwluMw   \n",
      "366   https://youtube.com/watch?v=k90WkVau8gY&t=246s   \n",
      "\n",
      "                                             thumbnail     time  \n",
      "0    https://i.ytimg.com/vi/0-rIU6rLRRY/hqdefault.j...     配信予定  \n",
      "1    https://i.ytimg.com/vi/3tAw0Tp-_nU/hqdefault.j...     配信予定  \n",
      "2    https://i.ytimg.com/vi/6e4frt6-Iv0/hqdefault.j...  2:58:04  \n",
      "3    https://i.ytimg.com/vi/sAYHTLOQG2Y/hqdefault.j...  3:31:11  \n",
      "4    https://i.ytimg.com/vi/f84rhreYVSA/hqdefault.j...    36:06  \n",
      "..                                                 ...      ...  \n",
      "362  https://i.ytimg.com/vi/d8uS7vXqIGc/hqdefault.j...  3:00:19  \n",
      "363  https://i.ytimg.com/vi/XUHuNY1Kmkc/hqdefault.j...  4:07:22  \n",
      "364  https://i.ytimg.com/vi/hRgBslUYnFg/hqdefault.j...  2:29:49  \n",
      "365  https://i.ytimg.com/vi/qNrI5QwluMw/hqdefault.j...  2:40:29  \n",
      "366  https://i.ytimg.com/vi/k90WkVau8gY/hqdefault.j...  2:05:57  \n",
      "\n",
      "[367 rows x 4 columns]\n"
     ]
    }
   ],
   "source": [
    "datas = {\n",
    "    'title': titles,\n",
    "    'url': urls,\n",
    "    'thumbnail': thumbnails,\n",
    "    \"time\":times\n",
    "}\n",
    "df = pd.DataFrame(datas)\n",
    "print(df)"
   ]
  },
  {
   "cell_type": "code",
   "execution_count": 64,
   "id": "85701db8-3a91-4813-b5c4-35b27ceac7d8",
   "metadata": {},
   "outputs": [],
   "source": [
    "df.to_csv(\"data.csv\")"
   ]
  },
  {
   "cell_type": "code",
   "execution_count": null,
   "id": "ba8efd94-653d-406f-aebd-7a714e007775",
   "metadata": {},
   "outputs": [],
   "source": []
  }
 ],
 "metadata": {
  "kernelspec": {
   "display_name": "Python 3 (ipykernel)",
   "language": "python",
   "name": "python3"
  },
  "language_info": {
   "codemirror_mode": {
    "name": "ipython",
    "version": 3
   },
   "file_extension": ".py",
   "mimetype": "text/x-python",
   "name": "python",
   "nbconvert_exporter": "python",
   "pygments_lexer": "ipython3",
   "version": "3.11.1"
  }
 },
 "nbformat": 4,
 "nbformat_minor": 5
}
